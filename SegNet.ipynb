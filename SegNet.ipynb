{
  "cells": [
    {
      "cell_type": "code",
      "execution_count": null,
      "metadata": {
        "colab": {
          "base_uri": "https://localhost:8080/"
        },
        "id": "dKmeT6p8NHkp",
        "outputId": "d1019a27-1902-4e15-9ebc-81e094b366b1"
      },
      "outputs": [
        {
          "name": "stdout",
          "output_type": "stream",
          "text": [
            "Path to dataset files: /root/.cache/kagglehub/datasets/carlolepelaars/camvid/versions/2\n"
          ]
        }
      ],
      "source": [
        "import kagglehub\n",
        "\n",
        "path = kagglehub.dataset_download(\"carlolepelaars/camvid\")\n",
        "\n",
        "print(\"Path to dataset files:\", path)"
      ]
    },
    {
      "cell_type": "code",
      "execution_count": null,
      "metadata": {
        "id": "z33kqaB6N3N_"
      },
      "outputs": [],
      "source": [
        "import os\n",
        "import torch\n",
        "from torch.utils.data import Dataset\n",
        "from PIL import Image\n",
        "import numpy as np\n",
        "import pandas as pd\n",
        "from torchvision import transforms\n",
        "import torch.nn as nn\n",
        "import torch.nn.functional as F\n",
        "from tqdm.notebook import tqdm\n",
        "import matplotlib.pyplot as plt\n",
        "import torch.optim as optim\n",
        "from google.colab import drive\n",
        "from sklearn.metrics import precision_score, recall_score, f1_score\n",
        "import random"
      ]
    },
    {
      "cell_type": "code",
      "execution_count": null,
      "metadata": {
        "colab": {
          "base_uri": "https://localhost:8080/"
        },
        "id": "Dpv1ikZ_SVUv",
        "outputId": "cc8eff25-126c-4910-f0a8-f1859163a91e"
      },
      "outputs": [
        {
          "name": "stdout",
          "output_type": "stream",
          "text": [
            "Mounted at /content/drive\n"
          ]
        }
      ],
      "source": [
        "drive.mount('/content/drive')"
      ]
    },
    {
      "cell_type": "code",
      "execution_count": null,
      "metadata": {
        "id": "KzjRzsBhN7ge"
      },
      "outputs": [],
      "source": [
        "class CamVidDataset(Dataset):\n",
        "    def __init__(self, root_dir, split='train', transform=None):\n",
        "        self.root_dir = root_dir\n",
        "        self.split = split\n",
        "        self.transform = transform\n",
        "\n",
        "        image_dir = os.path.join(root_dir, split)\n",
        "        mask_dir = os.path.join(root_dir, f'{split}_labels')\n",
        "\n",
        "        self.image_files = sorted([f for f in os.listdir(image_dir) if f.endswith('.png')])\n",
        "        self.mask_files = sorted([f for f in os.listdir(mask_dir) if f.endswith('_L.png')])\n",
        "\n",
        "        class_dict_path = os.path.join(root_dir, 'class_dict.csv')\n",
        "        self.class_df = pd.read_csv(class_dict_path)\n",
        "        self.name_to_rgb = {row['name']: (row['r'], row['g'], row['b']) for index, row in self.class_df.iterrows()}\n",
        "        self.rgb_to_id = {v: index for index, v in enumerate(self.name_to_rgb.values())}\n",
        "        self.id_to_class = {v: k for k, v in enumerate(self.name_to_rgb.keys())}\n",
        "        self.class_to_id = {k: v for v, k in self.id_to_class.items()}\n",
        "        self.num_classes = len(self.class_to_id)\n",
        "\n",
        "    def __len__(self):\n",
        "        return len(self.image_files)\n",
        "\n",
        "    def __getitem__(self, idx):\n",
        "        img_name = self.image_files[idx]\n",
        "        mask_name = img_name.replace('.png', '_L.png')\n",
        "\n",
        "        img_path = os.path.join(self.root_dir, self.split, img_name)\n",
        "        mask_path = os.path.join(self.root_dir, f'{self.split}_labels', mask_name)\n",
        "\n",
        "        image = Image.open(img_path).convert('RGB')\n",
        "        mask = Image.open(mask_path).convert('RGB')\n",
        "\n",
        "        if self.transform:\n",
        "            image = self.transform(image)\n",
        "            mask = self.transform(mask)\n",
        "\n",
        "        mask_np = np.array(mask).astype(np.uint8)\n",
        "        mask_np = mask_np.transpose(1, 2, 0)\n",
        "\n",
        "        semantic_mask = np.zeros(mask_np.shape[:2], dtype=np.int64)\n",
        "\n",
        "        for rgb_tuple, class_id in self.rgb_to_id.items():\n",
        "            rgb_array = np.array(rgb_tuple, dtype=np.uint8)\n",
        "            try:\n",
        "                semantic_mask[(mask_np == rgb_array).all(axis=2)] = class_id\n",
        "            except ValueError as e:\n",
        "                raise e\n",
        "\n",
        "        mask = torch.from_numpy(semantic_mask)\n",
        "\n",
        "        return image, mask"
      ]
    },
    {
      "cell_type": "code",
      "execution_count": null,
      "metadata": {
        "id": "pslPxfs1N7eW"
      },
      "outputs": [],
      "source": [
        "img_size = 256\n",
        "transform = transforms.Compose([\n",
        "    transforms.Resize((img_size, img_size)),\n",
        "    transforms.ToTensor(),\n",
        "    transforms.Normalize(mean=[0.485, 0.456, 0.406], std=[0.229, 0.224, 0.225])\n",
        "])\n"
      ]
    },
    {
      "cell_type": "code",
      "execution_count": null,
      "metadata": {
        "id": "oZtt_EcJN7bx"
      },
      "outputs": [],
      "source": [
        "root_dir = '/root/.cache/kagglehub/datasets/carlolepelaars/camvid/versions/2/CamVid'\n",
        "train_dataset = CamVidDataset(root_dir, split='train', transform=transform)\n",
        "val_dataset = CamVidDataset(root_dir, split='val', transform=transform)\n",
        "test_dataset = CamVidDataset(root_dir, split='test', transform=transform)"
      ]
    },
    {
      "cell_type": "code",
      "execution_count": null,
      "metadata": {
        "id": "LkwiBhFFN7ZF"
      },
      "outputs": [],
      "source": [
        "batch_size = 8\n",
        "train_loader = torch.utils.data.DataLoader(train_dataset, batch_size=batch_size, shuffle=True)\n",
        "val_loader = torch.utils.data.DataLoader(val_dataset, batch_size=batch_size, shuffle=False)\n",
        "test_loader = torch.utils.data.DataLoader(test_dataset, batch_size=batch_size, shuffle=False)"
      ]
    },
    {
      "cell_type": "code",
      "execution_count": null,
      "metadata": {
        "id": "AizY46eROFDe"
      },
      "outputs": [],
      "source": [
        "class SegNetEncoder(nn.Module):\n",
        "    def __init__(self, in_channels, out_channels):\n",
        "        super().__init__()\n",
        "        self.conv1 = nn.Conv2d(in_channels, out_channels, kernel_size=3, padding=1)\n",
        "        self.bn1 = nn.BatchNorm2d(out_channels)\n",
        "        self.relu1 = nn.ReLU(inplace=True)\n",
        "        self.conv2 = nn.Conv2d(out_channels, out_channels, kernel_size=3, padding=1)\n",
        "        self.bn2 = nn.BatchNorm2d(out_channels)\n",
        "        self.relu2 = nn.ReLU(inplace=True)\n",
        "        self.pool = nn.MaxPool2d(kernel_size=2, stride=2, return_indices=True)\n",
        "\n",
        "    def forward(self, x):\n",
        "        x = self.relu1(self.bn1(self.conv1(x)))\n",
        "        x = self.relu2(self.bn2(self.conv2(x)))\n",
        "        x, indices = self.pool(x)\n",
        "        return x, indices"
      ]
    },
    {
      "cell_type": "code",
      "execution_count": null,
      "metadata": {
        "id": "z2y1sl0qO-6J"
      },
      "outputs": [],
      "source": [
        "class SegNetDecoder(nn.Module):\n",
        "    def __init__(self, in_channels, out_channels):\n",
        "        super().__init__()\n",
        "        self.unpool = nn.MaxUnpool2d(kernel_size=2, stride=2)\n",
        "        self.conv1 = nn.Conv2d(in_channels, out_channels, kernel_size=3, padding=1)\n",
        "        self.bn1 = nn.BatchNorm2d(out_channels)\n",
        "        self.relu1 = nn.ReLU(inplace=True)\n",
        "        self.conv2 = nn.Conv2d(out_channels, out_channels, kernel_size=3, padding=1)\n",
        "        self.bn2 = nn.BatchNorm2d(out_channels)\n",
        "        self.relu2 = nn.ReLU(inplace=True)\n",
        "\n",
        "    def forward(self, x, indices, output_size):\n",
        "        x = self.unpool(x, indices, output_size=output_size)\n",
        "        x = self.relu1(self.bn1(self.conv1(x)))\n",
        "        x = self.relu2(self.bn2(self.conv2(x)))\n",
        "        return x"
      ]
    },
    {
      "cell_type": "code",
      "execution_count": null,
      "metadata": {
        "id": "k6vhWzPaO-3h"
      },
      "outputs": [],
      "source": [
        "class SegNet(nn.Module):\n",
        "    def __init__(self, in_channels, num_classes):\n",
        "        super().__init__()\n",
        "\n",
        "        self.encoder1 = SegNetEncoder(in_channels, 64)\n",
        "        self.encoder2 = SegNetEncoder(64, 128)\n",
        "        self.encoder3 = SegNetEncoder(128, 256)\n",
        "        self.encoder4 = SegNetEncoder(256, 512)\n",
        "\n",
        "        self.decoder4 = SegNetDecoder(512, 256)\n",
        "        self.decoder3 = SegNetDecoder(256, 128)\n",
        "        self.decoder2 = SegNetDecoder(128, 64)\n",
        "        self.decoder1 = SegNetDecoder(64, num_classes)\n",
        "\n",
        "    def forward(self, x):\n",
        "        enc1, indices1 = self.encoder1(x)\n",
        "        enc2, indices2 = self.encoder2(enc1)\n",
        "        enc3, indices3 = self.encoder3(enc2)\n",
        "        enc4, indices4 = self.encoder4(enc3)\n",
        "\n",
        "        dec4 = self.decoder4(enc4, indices4, enc3.size())\n",
        "        dec3 = self.decoder3(dec4, indices3, enc2.size())\n",
        "        dec2 = self.decoder2(dec3, indices2, enc1.size())\n",
        "        dec1 = self.decoder1(dec2, indices1, x.size())\n",
        "\n",
        "        return dec1\n"
      ]
    },
    {
      "cell_type": "markdown",
      "metadata": {
        "id": "RLRMHcDdPoqr"
      },
      "source": [
        "# 평가 함수"
      ]
    },
    {
      "cell_type": "code",
      "execution_count": null,
      "metadata": {
        "id": "MgmGY6LYPrDv"
      },
      "outputs": [],
      "source": [
        "def calculate_f1_metrics(pred_mask, true_mask, threshold=0.5):\n",
        "    if isinstance(pred_mask, torch.Tensor):\n",
        "        pred_mask = pred_mask.detach().cpu().numpy()\n",
        "    if isinstance(true_mask, torch.Tensor):\n",
        "        true_mask = true_mask.detach().cpu().numpy()\n",
        "\n",
        "    pred_flat = (pred_mask > threshold).astype(int).flatten()\n",
        "    true_flat = (true_mask > threshold).astype(int).flatten()\n",
        "\n",
        "    precision = precision_score(true_flat, pred_flat, zero_division=0)\n",
        "    recall = recall_score(true_flat, pred_flat, zero_division=0)\n",
        "    f1 = f1_score(true_flat, pred_flat, zero_division=0)\n",
        "\n",
        "    return precision, recall, f1"
      ]
    },
    {
      "cell_type": "code",
      "execution_count": null,
      "metadata": {
        "id": "10klnqReY8pI"
      },
      "outputs": [],
      "source": [
        "def calculate_pixel_accuracy(pred_mask, true_mask):\n",
        "    correct_pixels = (pred_mask == true_mask).sum().float()\n",
        "    total_pixels = torch.numel(pred_mask)\n",
        "    pixel_accuracy = correct_pixels / total_pixels\n",
        "    return pixel_accuracy\n"
      ]
    },
    {
      "cell_type": "markdown",
      "metadata": {
        "id": "g0h2j5yoPsQg"
      },
      "source": [
        "#시각화"
      ]
    },
    {
      "cell_type": "code",
      "execution_count": null,
      "metadata": {
        "id": "1d2cpLK5PrkH"
      },
      "outputs": [],
      "source": [
        "def visualize_segmentation(images, true_masks, pred_masks, id_to_class):\n",
        "    batch_size = images.size(0)\n",
        "    fig, axes = plt.subplots(batch_size, 3, figsize=(10, 5 * batch_size))\n",
        "    for i in range(batch_size):\n",
        "        img = images[i].permute(1, 2, 0).numpy()\n",
        "        true_mask = true_masks[i].numpy()\n",
        "        pred_mask = pred_masks[i].numpy()\n",
        "\n",
        "        axes[i, 0].imshow(img)\n",
        "        axes[i, 0].set_title('Image')\n",
        "        axes[i, 0].axis('off')\n",
        "\n",
        "        axes[i, 1].imshow(decode_segmap(true_mask, id_to_class))\n",
        "        axes[i, 1].set_title('True Mask')\n",
        "        axes[i, 1].axis('off')\n",
        "\n",
        "        axes[i, 2].imshow(decode_segmap(pred_mask, id_to_class))\n",
        "        axes[i, 2].set_title('Predicted Mask')\n",
        "        axes[i, 2].axis('off')\n",
        "    plt.tight_layout()\n",
        "    plt.show()\n",
        "\n",
        "def decode_segmap(mask, id_to_class):\n",
        "    n_classes = len(id_to_class)\n",
        "    label_colors = np.random.randint(0, 255, size=(n_classes, 3), dtype=np.uint8)\n",
        "    r = np.zeros_like(mask).astype(np.uint8)\n",
        "    g = np.zeros_like(mask).astype(np.uint8)\n",
        "    b = np.zeros_like(mask).astype(np.uint8)\n",
        "    for l in range(0, n_classes):\n",
        "        idx = mask == l\n",
        "        r[idx] = label_colors[l, 0]\n",
        "        g[idx] = label_colors[l, 1]\n",
        "        b[idx] = label_colors[l, 2]\n",
        "    rgb = np.stack([r, g, b], axis=2)\n",
        "    return rgb"
      ]
    },
    {
      "cell_type": "code",
      "execution_count": null,
      "metadata": {
        "id": "uCfgk0NUOFBN"
      },
      "outputs": [],
      "source": [
        "device = torch.device(\"cuda\" if torch.cuda.is_available() else \"cpu\")"
      ]
    },
    {
      "cell_type": "code",
      "execution_count": null,
      "metadata": {
        "id": "pdyYo_AePYFW"
      },
      "outputs": [],
      "source": [
        "in_channels = 3\n",
        "num_classes = train_dataset.num_classes\n",
        "segnet_model = SegNet(in_channels, num_classes).to(device)"
      ]
    },
    {
      "cell_type": "code",
      "execution_count": null,
      "metadata": {
        "id": "RC3bo9xRPYDF"
      },
      "outputs": [],
      "source": [
        "criterion = nn.CrossEntropyLoss()\n",
        "optimizer = optim.Adam(segnet_model.parameters(), lr=0.001)"
      ]
    },
    {
      "cell_type": "code",
      "execution_count": null,
      "metadata": {
        "id": "a-yASlM4PYAq"
      },
      "outputs": [],
      "source": [
        "num_epochs = 101"
      ]
    },
    {
      "cell_type": "markdown",
      "metadata": {
        "id": "QG6DgmF2qUqB"
      },
      "source": [
        "#체크포인트 로드"
      ]
    },
    {
      "cell_type": "code",
      "execution_count": null,
      "metadata": {
        "id": "K1HbCK7bqWPE"
      },
      "outputs": [],
      "source": [
        "def load_checkpoint(model, optimizer, checkpoint_path):\n",
        "    if os.path.exists(checkpoint_path):\n",
        "        checkpoint = torch.load(checkpoint_path, map_location=device)\n",
        "        model.load_state_dict(checkpoint['model_state_dict'])\n",
        "        optimizer.load_state_dict(checkpoint['optimizer_state_dict'])\n",
        "        start_epoch = checkpoint['epoch']\n",
        "        print(f\"✅ Loaded checkpoint from epoch {start_epoch}\")\n",
        "        return start_epoch\n",
        "    else:\n",
        "        print(\"⚠️ Checkpoint not found. Starting from scratch.\")\n",
        "        return 0"
      ]
    },
    {
      "cell_type": "code",
      "execution_count": null,
      "metadata": {
        "id": "vNO-5Tldq9sh"
      },
      "outputs": [],
      "source": [
        "checkpoint_dir = '/content/drive/MyDrive/Dataset/SegNet_CheckPoint'\n",
        "os.makedirs(checkpoint_dir, exist_ok=True)"
      ]
    },
    {
      "cell_type": "code",
      "execution_count": null,
      "metadata": {
        "colab": {
          "base_uri": "https://localhost:8080/"
        },
        "id": "2gFi1BIbqlGS",
        "outputId": "540d4822-1c7e-4b48-8f67-3b9fe3c1b6eb"
      },
      "outputs": [
        {
          "name": "stdout",
          "output_type": "stream",
          "text": [
            "✅ Loaded checkpoint from epoch 100\n"
          ]
        }
      ],
      "source": [
        "checkpoint_path = '/content/drive/MyDrive/Dataset/SegNet_CheckPoint/checkpoint_epoch_100.pth'\n",
        "start_epoch = load_checkpoint(segnet_model, optimizer, checkpoint_path)"
      ]
    },
    {
      "cell_type": "code",
      "execution_count": null,
      "metadata": {
        "colab": {
          "base_uri": "https://localhost:8080/",
          "height": 1000,
          "referenced_widgets": [
            "2df03bf61b3944ec8b0bc5b075958172",
            "ccc4beb6ffc849ecb43c2af9127f78a9",
            "621af0107fba4deb8e77a4d42b26d407",
            "200a4b2270f54bf698efc3aca8437a7b",
            "d746d93f10ce4f4d861dd998f3112052",
            "cf69b7603d81411bab1e7384dbdd5f43",
            "1769dad44c5143418b39b75a7092b061",
            "6fa1144d7b6041c0b34aa7b0aedca593",
            "7827a2dedcdc4bbf9f34df6d69c6f416",
            "3374fc37909e4009921936ab1725e5d3",
            "0fbd9795d24f46099f992a896e63d587",
            "682aa55ed54e450e9850187561f1b325",
            "c17b4264297e4c1fbe9d9c4285fefac1",
            "fc732138b1f8423b8f634dc7e76807b0",
            "79b32644bf304aab83a9c9b171afe34f",
            "4d9eae46b4b04d199ec0eafef96cf05b",
            "97fbc65727964a6aa20764e3cfc8dde4",
            "b4fadf2fa6de412ab0aa930070ee71fa",
            "b200633d4fc54d109d3d4521c6b5afd3",
            "159013a06dcc43cb9aaf31b0b35ad34b",
            "ead7399858e74178af5ed6074a2630f9",
            "b4333a0009964167ae6d56f44be1e3b8"
          ]
        },
        "id": "Ink2XqPaOE-s",
        "outputId": "f6d746a7-2cc1-4d9f-8f23-a6f6d112148d"
      },
      "outputs": [],
      "source": [
        "train_losses = []\n",
        "val_losses = []\n",
        "train_pixel_accuracies = []\n",
        "val_pixel_accuracies = []\n",
        "\n",
        "for epoch in range(start_epoch, num_epochs):\n",
        "    segnet_model.train()\n",
        "    train_loss = 0.0\n",
        "    train_accuracy = 0.0\n",
        "    train_progress = tqdm(train_loader, desc=f'Epoch {epoch+1}/{num_epochs} (Train)')\n",
        "    first_train_batch = True\n",
        "\n",
        "    for images, masks in train_progress:\n",
        "        images = images.to(device)\n",
        "        masks = masks.to(device)\n",
        "\n",
        "        optimizer.zero_grad()\n",
        "        outputs = segnet_model(images)\n",
        "        loss = criterion(outputs, masks)\n",
        "        loss.backward()\n",
        "        optimizer.step()\n",
        "\n",
        "        train_loss += loss.item()\n",
        "        train_progress.set_postfix(loss=loss.item())\n",
        "\n",
        "        _, predicted_train = torch.max(outputs.data, 1)\n",
        "        pixel_accuracy = calculate_pixel_accuracy(predicted_train, masks)\n",
        "        train_accuracy += pixel_accuracy.item()\n",
        "\n",
        "        if first_train_batch:\n",
        "            visualize_segmentation(images.cpu(), masks.cpu(), predicted_train.cpu(), train_dataset.id_to_class)\n",
        "            first_train_batch = False\n",
        "\n",
        "    avg_train_loss = train_loss / len(train_loader)\n",
        "    avg_train_accuracy = train_accuracy / len(train_loader)\n",
        "    train_losses.append(avg_train_loss)\n",
        "    train_pixel_accuracies.append(avg_train_accuracy)\n",
        "\n",
        "    segnet_model.eval()\n",
        "    val_loss = 0.0\n",
        "    val_accuracy = 0.0\n",
        "    val_progress = tqdm(val_loader, desc=f'Epoch {epoch+1}/{num_epochs} (Validation)')\n",
        "    first_val_batch = True\n",
        "\n",
        "    with torch.no_grad():\n",
        "        for images_val, masks_val in val_progress:\n",
        "            images_val = images_val.to(device)\n",
        "            masks_val = masks_val.to(device)\n",
        "            outputs_val = segnet_model(images_val)\n",
        "            loss_val = criterion(outputs_val, masks_val)\n",
        "            val_loss += loss_val.item()\n",
        "\n",
        "            _, predicted_val = torch.max(outputs_val.data, 1)\n",
        "            pixel_accuracy = calculate_pixel_accuracy(predicted_val, masks_val)\n",
        "            val_accuracy += pixel_accuracy.item()\n",
        "\n",
        "            val_progress.set_postfix(loss=loss_val.item())\n",
        "\n",
        "            if first_val_batch:\n",
        "                first_val_batch = False\n",
        "\n",
        "    avg_val_loss = val_loss / len(val_loader)\n",
        "    avg_val_accuracy = val_accuracy / len(val_loader)\n",
        "    val_losses.append(avg_val_loss)\n",
        "    val_pixel_accuracies.append(avg_val_accuracy)\n",
        "\n",
        "    print(f'Epoch [{epoch+1}/{num_epochs}], Train Loss: {train_losses[-1]:.4f}, Train Pixel Accuracy: {train_pixel_accuracies[-1]:.4f}, '\n",
        "          f'Validation Loss: {val_losses[-1]:.4f}, Validation Pixel Accuracy: {val_pixel_accuracies[-1]:.4f}')\n",
        "\n",
        "    if (epoch + 1) % 5 == 0:\n",
        "        checkpoint_path = os.path.join(checkpoint_dir, f'checkpoint_epoch_{epoch+1}.pth')\n",
        "        torch.save({\n",
        "            'epoch': epoch + 1,\n",
        "            'model_state_dict': segnet_model.state_dict(),\n",
        "            'optimizer_state_dict': optimizer.state_dict(),\n",
        "            'train_loss': train_losses[-1],\n",
        "            'val_loss': val_losses[-1],\n",
        "        }, checkpoint_path)\n",
        "        print(f'Saved checkpoint: {checkpoint_path}')"
      ]
    },
    {
      "cell_type": "markdown",
      "metadata": {
        "id": "FzFH8zP6Pxog"
      },
      "source": [
        "# 평가"
      ]
    },
    {
      "cell_type": "code",
      "execution_count": null,
      "metadata": {
        "id": "Wxsc6ktTYcEP"
      },
      "outputs": [],
      "source": [
        "checkpoint_path = '/content/drive/MyDrive/Dataset/SegNet_CheckPoint/checkpoint_epoch_100.pth'\n",
        "\n",
        "checkpoint = torch.load(checkpoint_path)"
      ]
    },
    {
      "cell_type": "code",
      "execution_count": null,
      "metadata": {
        "colab": {
          "base_uri": "https://localhost:8080/"
        },
        "id": "JbHWhhNVYa4o",
        "outputId": "486993b3-e8c3-421a-dcd6-0cfbd370c588"
      },
      "outputs": [
        {
          "name": "stdout",
          "output_type": "stream",
          "text": [
            "Checkpoint loaded. Starting from epoch 100.\n",
            "Train Loss: 0.2630, Validation Loss: 0.2917\n"
          ]
        }
      ],
      "source": [
        "segnet_model.load_state_dict(checkpoint['model_state_dict'])\n",
        "\n",
        "optimizer.load_state_dict(checkpoint['optimizer_state_dict'])\n",
        "\n",
        "start_epoch = checkpoint['epoch']\n",
        "train_loss = checkpoint['train_loss']\n",
        "val_loss = checkpoint['val_loss']\n",
        "\n",
        "print(f\"Checkpoint loaded. Starting from epoch {start_epoch}.\")\n",
        "print(f\"Train Loss: {train_loss:.4f}, Validation Loss: {val_loss:.4f}\")"
      ]
    },
    {
      "cell_type": "code",
      "execution_count": null,
      "metadata": {
        "colab": {
          "base_uri": "https://localhost:8080/"
        },
        "id": "X17GMppHPyfe",
        "outputId": "046a8d9a-bf23-4037-e108-1421ed86c5ce"
      },
      "outputs": [
        {
          "data": {
            "text/plain": [
              "SegNet(\n",
              "  (encoder1): SegNetEncoder(\n",
              "    (conv1): Conv2d(3, 64, kernel_size=(3, 3), stride=(1, 1), padding=(1, 1))\n",
              "    (bn1): BatchNorm2d(64, eps=1e-05, momentum=0.1, affine=True, track_running_stats=True)\n",
              "    (relu1): ReLU(inplace=True)\n",
              "    (conv2): Conv2d(64, 64, kernel_size=(3, 3), stride=(1, 1), padding=(1, 1))\n",
              "    (bn2): BatchNorm2d(64, eps=1e-05, momentum=0.1, affine=True, track_running_stats=True)\n",
              "    (relu2): ReLU(inplace=True)\n",
              "    (pool): MaxPool2d(kernel_size=2, stride=2, padding=0, dilation=1, ceil_mode=False)\n",
              "  )\n",
              "  (encoder2): SegNetEncoder(\n",
              "    (conv1): Conv2d(64, 128, kernel_size=(3, 3), stride=(1, 1), padding=(1, 1))\n",
              "    (bn1): BatchNorm2d(128, eps=1e-05, momentum=0.1, affine=True, track_running_stats=True)\n",
              "    (relu1): ReLU(inplace=True)\n",
              "    (conv2): Conv2d(128, 128, kernel_size=(3, 3), stride=(1, 1), padding=(1, 1))\n",
              "    (bn2): BatchNorm2d(128, eps=1e-05, momentum=0.1, affine=True, track_running_stats=True)\n",
              "    (relu2): ReLU(inplace=True)\n",
              "    (pool): MaxPool2d(kernel_size=2, stride=2, padding=0, dilation=1, ceil_mode=False)\n",
              "  )\n",
              "  (encoder3): SegNetEncoder(\n",
              "    (conv1): Conv2d(128, 256, kernel_size=(3, 3), stride=(1, 1), padding=(1, 1))\n",
              "    (bn1): BatchNorm2d(256, eps=1e-05, momentum=0.1, affine=True, track_running_stats=True)\n",
              "    (relu1): ReLU(inplace=True)\n",
              "    (conv2): Conv2d(256, 256, kernel_size=(3, 3), stride=(1, 1), padding=(1, 1))\n",
              "    (bn2): BatchNorm2d(256, eps=1e-05, momentum=0.1, affine=True, track_running_stats=True)\n",
              "    (relu2): ReLU(inplace=True)\n",
              "    (pool): MaxPool2d(kernel_size=2, stride=2, padding=0, dilation=1, ceil_mode=False)\n",
              "  )\n",
              "  (encoder4): SegNetEncoder(\n",
              "    (conv1): Conv2d(256, 512, kernel_size=(3, 3), stride=(1, 1), padding=(1, 1))\n",
              "    (bn1): BatchNorm2d(512, eps=1e-05, momentum=0.1, affine=True, track_running_stats=True)\n",
              "    (relu1): ReLU(inplace=True)\n",
              "    (conv2): Conv2d(512, 512, kernel_size=(3, 3), stride=(1, 1), padding=(1, 1))\n",
              "    (bn2): BatchNorm2d(512, eps=1e-05, momentum=0.1, affine=True, track_running_stats=True)\n",
              "    (relu2): ReLU(inplace=True)\n",
              "    (pool): MaxPool2d(kernel_size=2, stride=2, padding=0, dilation=1, ceil_mode=False)\n",
              "  )\n",
              "  (decoder4): SegNetDecoder(\n",
              "    (unpool): MaxUnpool2d(kernel_size=(2, 2), stride=(2, 2), padding=(0, 0))\n",
              "    (conv1): Conv2d(512, 256, kernel_size=(3, 3), stride=(1, 1), padding=(1, 1))\n",
              "    (bn1): BatchNorm2d(256, eps=1e-05, momentum=0.1, affine=True, track_running_stats=True)\n",
              "    (relu1): ReLU(inplace=True)\n",
              "    (conv2): Conv2d(256, 256, kernel_size=(3, 3), stride=(1, 1), padding=(1, 1))\n",
              "    (bn2): BatchNorm2d(256, eps=1e-05, momentum=0.1, affine=True, track_running_stats=True)\n",
              "    (relu2): ReLU(inplace=True)\n",
              "  )\n",
              "  (decoder3): SegNetDecoder(\n",
              "    (unpool): MaxUnpool2d(kernel_size=(2, 2), stride=(2, 2), padding=(0, 0))\n",
              "    (conv1): Conv2d(256, 128, kernel_size=(3, 3), stride=(1, 1), padding=(1, 1))\n",
              "    (bn1): BatchNorm2d(128, eps=1e-05, momentum=0.1, affine=True, track_running_stats=True)\n",
              "    (relu1): ReLU(inplace=True)\n",
              "    (conv2): Conv2d(128, 128, kernel_size=(3, 3), stride=(1, 1), padding=(1, 1))\n",
              "    (bn2): BatchNorm2d(128, eps=1e-05, momentum=0.1, affine=True, track_running_stats=True)\n",
              "    (relu2): ReLU(inplace=True)\n",
              "  )\n",
              "  (decoder2): SegNetDecoder(\n",
              "    (unpool): MaxUnpool2d(kernel_size=(2, 2), stride=(2, 2), padding=(0, 0))\n",
              "    (conv1): Conv2d(128, 64, kernel_size=(3, 3), stride=(1, 1), padding=(1, 1))\n",
              "    (bn1): BatchNorm2d(64, eps=1e-05, momentum=0.1, affine=True, track_running_stats=True)\n",
              "    (relu1): ReLU(inplace=True)\n",
              "    (conv2): Conv2d(64, 64, kernel_size=(3, 3), stride=(1, 1), padding=(1, 1))\n",
              "    (bn2): BatchNorm2d(64, eps=1e-05, momentum=0.1, affine=True, track_running_stats=True)\n",
              "    (relu2): ReLU(inplace=True)\n",
              "  )\n",
              "  (decoder1): SegNetDecoder(\n",
              "    (unpool): MaxUnpool2d(kernel_size=(2, 2), stride=(2, 2), padding=(0, 0))\n",
              "    (conv1): Conv2d(64, 32, kernel_size=(3, 3), stride=(1, 1), padding=(1, 1))\n",
              "    (bn1): BatchNorm2d(32, eps=1e-05, momentum=0.1, affine=True, track_running_stats=True)\n",
              "    (relu1): ReLU(inplace=True)\n",
              "    (conv2): Conv2d(32, 32, kernel_size=(3, 3), stride=(1, 1), padding=(1, 1))\n",
              "    (bn2): BatchNorm2d(32, eps=1e-05, momentum=0.1, affine=True, track_running_stats=True)\n",
              "    (relu2): ReLU(inplace=True)\n",
              "  )\n",
              ")"
            ]
          },
          "execution_count": 81,
          "metadata": {},
          "output_type": "execute_result"
        }
      ],
      "source": [
        "segnet_model.eval()\n",
        "segnet_model.to(device)"
      ]
    },
    {
      "cell_type": "code",
      "execution_count": null,
      "metadata": {
        "id": "aGmd_8ghpUKS"
      },
      "outputs": [],
      "source": [
        "def show_segmentation_result(image, true_mask, predicted_mask):\n",
        "    plt.figure(figsize=(15, 5))\n",
        "    plt.subplot(1, 3, 1)\n",
        "    plt.imshow(image.permute(1, 2, 0).cpu().numpy())\n",
        "    plt.title(\"Original Image\")\n",
        "\n",
        "    plt.subplot(1, 3, 2)\n",
        "    plt.imshow(true_mask.cpu().numpy(), cmap='gray')\n",
        "    plt.title(\"True Mask\")\n",
        "\n",
        "    plt.subplot(1, 3, 3)\n",
        "    plt.imshow(predicted_mask.cpu().numpy(), cmap='gray')\n",
        "    plt.title(\"Predicted Mask\")\n",
        "    plt.show()"
      ]
    },
    {
      "cell_type": "code",
      "execution_count": null,
      "metadata": {
        "colab": {
          "base_uri": "https://localhost:8080/",
          "height": 1000
        },
        "id": "v0VPpBuWpX2x",
        "outputId": "f0c79fb5-0fe1-4c2e-b872-4a91ff4204d3"
      },
      "outputs": [],
      "source": [
        "f1_scores = []\n",
        "precisions = []\n",
        "recalls = []\n",
        "\n",
        "test_data = list(test_loader)\n",
        "random_samples = random.sample(test_data, 5)\n",
        "\n",
        "with torch.no_grad():\n",
        "    for i, (image, label) in enumerate(random_samples):\n",
        "        image, label = image.to(device), label.to(device)\n",
        "\n",
        "        outputs = segnet_model(image)\n",
        "        _, predicted = torch.max(outputs.data, 1)\n",
        "\n",
        "        precision, recall, f1 = calculate_f1_metrics(predicted[0], label[0])\n",
        "        precisions.append(precision)\n",
        "        recalls.append(recall)\n",
        "        f1_scores.append(f1)\n",
        "\n",
        "        show_segmentation_result(image[0], label[0], predicted[0])\n",
        "\n",
        "print(f\"Test Precision: {np.mean(precisions):.4f}\")\n",
        "print(f\"Test Recall: {np.mean(recalls):.4f}\")\n",
        "print(f\"Test F1 Score: {np.mean(f1_scores):.4f}\")"
      ]
    }
  ],
  "metadata": {
    "accelerator": "GPU",
    "colab": {
      "gpuType": "T4",
      "machine_shape": "hm",
      "provenance": []
    },
    "kernelspec": {
      "display_name": "Python 3",
      "name": "python3"
    },
    "language_info": {
      "name": "python"
    },
    "widgets": {
      "application/vnd.jupyter.widget-state+json": {
        "0fbd9795d24f46099f992a896e63d587": {
          "model_module": "@jupyter-widgets/controls",
          "model_module_version": "1.5.0",
          "model_name": "DescriptionStyleModel",
          "state": {
            "_model_module": "@jupyter-widgets/controls",
            "_model_module_version": "1.5.0",
            "_model_name": "DescriptionStyleModel",
            "_view_count": null,
            "_view_module": "@jupyter-widgets/base",
            "_view_module_version": "1.2.0",
            "_view_name": "StyleView",
            "description_width": ""
          }
        },
        "159013a06dcc43cb9aaf31b0b35ad34b": {
          "model_module": "@jupyter-widgets/controls",
          "model_module_version": "1.5.0",
          "model_name": "ProgressStyleModel",
          "state": {
            "_model_module": "@jupyter-widgets/controls",
            "_model_module_version": "1.5.0",
            "_model_name": "ProgressStyleModel",
            "_view_count": null,
            "_view_module": "@jupyter-widgets/base",
            "_view_module_version": "1.2.0",
            "_view_name": "StyleView",
            "bar_color": null,
            "description_width": ""
          }
        },
        "1769dad44c5143418b39b75a7092b061": {
          "model_module": "@jupyter-widgets/controls",
          "model_module_version": "1.5.0",
          "model_name": "DescriptionStyleModel",
          "state": {
            "_model_module": "@jupyter-widgets/controls",
            "_model_module_version": "1.5.0",
            "_model_name": "DescriptionStyleModel",
            "_view_count": null,
            "_view_module": "@jupyter-widgets/base",
            "_view_module_version": "1.2.0",
            "_view_name": "StyleView",
            "description_width": ""
          }
        },
        "200a4b2270f54bf698efc3aca8437a7b": {
          "model_module": "@jupyter-widgets/controls",
          "model_module_version": "1.5.0",
          "model_name": "HTMLModel",
          "state": {
            "_dom_classes": [],
            "_model_module": "@jupyter-widgets/controls",
            "_model_module_version": "1.5.0",
            "_model_name": "HTMLModel",
            "_view_count": null,
            "_view_module": "@jupyter-widgets/controls",
            "_view_module_version": "1.5.0",
            "_view_name": "HTMLView",
            "description": "",
            "description_tooltip": null,
            "layout": "IPY_MODEL_3374fc37909e4009921936ab1725e5d3",
            "placeholder": "​",
            "style": "IPY_MODEL_0fbd9795d24f46099f992a896e63d587",
            "value": " 47/47 [00:26&lt;00:00,  1.81it/s, loss=0.306]"
          }
        },
        "2df03bf61b3944ec8b0bc5b075958172": {
          "model_module": "@jupyter-widgets/controls",
          "model_module_version": "1.5.0",
          "model_name": "HBoxModel",
          "state": {
            "_dom_classes": [],
            "_model_module": "@jupyter-widgets/controls",
            "_model_module_version": "1.5.0",
            "_model_name": "HBoxModel",
            "_view_count": null,
            "_view_module": "@jupyter-widgets/controls",
            "_view_module_version": "1.5.0",
            "_view_name": "HBoxView",
            "box_style": "",
            "children": [
              "IPY_MODEL_ccc4beb6ffc849ecb43c2af9127f78a9",
              "IPY_MODEL_621af0107fba4deb8e77a4d42b26d407",
              "IPY_MODEL_200a4b2270f54bf698efc3aca8437a7b"
            ],
            "layout": "IPY_MODEL_d746d93f10ce4f4d861dd998f3112052"
          }
        },
        "3374fc37909e4009921936ab1725e5d3": {
          "model_module": "@jupyter-widgets/base",
          "model_module_version": "1.2.0",
          "model_name": "LayoutModel",
          "state": {
            "_model_module": "@jupyter-widgets/base",
            "_model_module_version": "1.2.0",
            "_model_name": "LayoutModel",
            "_view_count": null,
            "_view_module": "@jupyter-widgets/base",
            "_view_module_version": "1.2.0",
            "_view_name": "LayoutView",
            "align_content": null,
            "align_items": null,
            "align_self": null,
            "border": null,
            "bottom": null,
            "display": null,
            "flex": null,
            "flex_flow": null,
            "grid_area": null,
            "grid_auto_columns": null,
            "grid_auto_flow": null,
            "grid_auto_rows": null,
            "grid_column": null,
            "grid_gap": null,
            "grid_row": null,
            "grid_template_areas": null,
            "grid_template_columns": null,
            "grid_template_rows": null,
            "height": null,
            "justify_content": null,
            "justify_items": null,
            "left": null,
            "margin": null,
            "max_height": null,
            "max_width": null,
            "min_height": null,
            "min_width": null,
            "object_fit": null,
            "object_position": null,
            "order": null,
            "overflow": null,
            "overflow_x": null,
            "overflow_y": null,
            "padding": null,
            "right": null,
            "top": null,
            "visibility": null,
            "width": null
          }
        },
        "4d9eae46b4b04d199ec0eafef96cf05b": {
          "model_module": "@jupyter-widgets/base",
          "model_module_version": "1.2.0",
          "model_name": "LayoutModel",
          "state": {
            "_model_module": "@jupyter-widgets/base",
            "_model_module_version": "1.2.0",
            "_model_name": "LayoutModel",
            "_view_count": null,
            "_view_module": "@jupyter-widgets/base",
            "_view_module_version": "1.2.0",
            "_view_name": "LayoutView",
            "align_content": null,
            "align_items": null,
            "align_self": null,
            "border": null,
            "bottom": null,
            "display": null,
            "flex": null,
            "flex_flow": null,
            "grid_area": null,
            "grid_auto_columns": null,
            "grid_auto_flow": null,
            "grid_auto_rows": null,
            "grid_column": null,
            "grid_gap": null,
            "grid_row": null,
            "grid_template_areas": null,
            "grid_template_columns": null,
            "grid_template_rows": null,
            "height": null,
            "justify_content": null,
            "justify_items": null,
            "left": null,
            "margin": null,
            "max_height": null,
            "max_width": null,
            "min_height": null,
            "min_width": null,
            "object_fit": null,
            "object_position": null,
            "order": null,
            "overflow": null,
            "overflow_x": null,
            "overflow_y": null,
            "padding": null,
            "right": null,
            "top": null,
            "visibility": null,
            "width": null
          }
        },
        "621af0107fba4deb8e77a4d42b26d407": {
          "model_module": "@jupyter-widgets/controls",
          "model_module_version": "1.5.0",
          "model_name": "FloatProgressModel",
          "state": {
            "_dom_classes": [],
            "_model_module": "@jupyter-widgets/controls",
            "_model_module_version": "1.5.0",
            "_model_name": "FloatProgressModel",
            "_view_count": null,
            "_view_module": "@jupyter-widgets/controls",
            "_view_module_version": "1.5.0",
            "_view_name": "ProgressView",
            "bar_style": "success",
            "description": "",
            "description_tooltip": null,
            "layout": "IPY_MODEL_6fa1144d7b6041c0b34aa7b0aedca593",
            "max": 47,
            "min": 0,
            "orientation": "horizontal",
            "style": "IPY_MODEL_7827a2dedcdc4bbf9f34df6d69c6f416",
            "value": 47
          }
        },
        "682aa55ed54e450e9850187561f1b325": {
          "model_module": "@jupyter-widgets/controls",
          "model_module_version": "1.5.0",
          "model_name": "HBoxModel",
          "state": {
            "_dom_classes": [],
            "_model_module": "@jupyter-widgets/controls",
            "_model_module_version": "1.5.0",
            "_model_name": "HBoxModel",
            "_view_count": null,
            "_view_module": "@jupyter-widgets/controls",
            "_view_module_version": "1.5.0",
            "_view_name": "HBoxView",
            "box_style": "",
            "children": [
              "IPY_MODEL_c17b4264297e4c1fbe9d9c4285fefac1",
              "IPY_MODEL_fc732138b1f8423b8f634dc7e76807b0",
              "IPY_MODEL_79b32644bf304aab83a9c9b171afe34f"
            ],
            "layout": "IPY_MODEL_4d9eae46b4b04d199ec0eafef96cf05b"
          }
        },
        "6fa1144d7b6041c0b34aa7b0aedca593": {
          "model_module": "@jupyter-widgets/base",
          "model_module_version": "1.2.0",
          "model_name": "LayoutModel",
          "state": {
            "_model_module": "@jupyter-widgets/base",
            "_model_module_version": "1.2.0",
            "_model_name": "LayoutModel",
            "_view_count": null,
            "_view_module": "@jupyter-widgets/base",
            "_view_module_version": "1.2.0",
            "_view_name": "LayoutView",
            "align_content": null,
            "align_items": null,
            "align_self": null,
            "border": null,
            "bottom": null,
            "display": null,
            "flex": null,
            "flex_flow": null,
            "grid_area": null,
            "grid_auto_columns": null,
            "grid_auto_flow": null,
            "grid_auto_rows": null,
            "grid_column": null,
            "grid_gap": null,
            "grid_row": null,
            "grid_template_areas": null,
            "grid_template_columns": null,
            "grid_template_rows": null,
            "height": null,
            "justify_content": null,
            "justify_items": null,
            "left": null,
            "margin": null,
            "max_height": null,
            "max_width": null,
            "min_height": null,
            "min_width": null,
            "object_fit": null,
            "object_position": null,
            "order": null,
            "overflow": null,
            "overflow_x": null,
            "overflow_y": null,
            "padding": null,
            "right": null,
            "top": null,
            "visibility": null,
            "width": null
          }
        },
        "7827a2dedcdc4bbf9f34df6d69c6f416": {
          "model_module": "@jupyter-widgets/controls",
          "model_module_version": "1.5.0",
          "model_name": "ProgressStyleModel",
          "state": {
            "_model_module": "@jupyter-widgets/controls",
            "_model_module_version": "1.5.0",
            "_model_name": "ProgressStyleModel",
            "_view_count": null,
            "_view_module": "@jupyter-widgets/base",
            "_view_module_version": "1.2.0",
            "_view_name": "StyleView",
            "bar_color": null,
            "description_width": ""
          }
        },
        "79b32644bf304aab83a9c9b171afe34f": {
          "model_module": "@jupyter-widgets/controls",
          "model_module_version": "1.5.0",
          "model_name": "HTMLModel",
          "state": {
            "_dom_classes": [],
            "_model_module": "@jupyter-widgets/controls",
            "_model_module_version": "1.5.0",
            "_model_name": "HTMLModel",
            "_view_count": null,
            "_view_module": "@jupyter-widgets/controls",
            "_view_module_version": "1.5.0",
            "_view_name": "HTMLView",
            "description": "",
            "description_tooltip": null,
            "layout": "IPY_MODEL_ead7399858e74178af5ed6074a2630f9",
            "placeholder": "​",
            "style": "IPY_MODEL_b4333a0009964167ae6d56f44be1e3b8",
            "value": " 13/13 [00:05&lt;00:00,  2.94it/s, loss=0.199]"
          }
        },
        "97fbc65727964a6aa20764e3cfc8dde4": {
          "model_module": "@jupyter-widgets/base",
          "model_module_version": "1.2.0",
          "model_name": "LayoutModel",
          "state": {
            "_model_module": "@jupyter-widgets/base",
            "_model_module_version": "1.2.0",
            "_model_name": "LayoutModel",
            "_view_count": null,
            "_view_module": "@jupyter-widgets/base",
            "_view_module_version": "1.2.0",
            "_view_name": "LayoutView",
            "align_content": null,
            "align_items": null,
            "align_self": null,
            "border": null,
            "bottom": null,
            "display": null,
            "flex": null,
            "flex_flow": null,
            "grid_area": null,
            "grid_auto_columns": null,
            "grid_auto_flow": null,
            "grid_auto_rows": null,
            "grid_column": null,
            "grid_gap": null,
            "grid_row": null,
            "grid_template_areas": null,
            "grid_template_columns": null,
            "grid_template_rows": null,
            "height": null,
            "justify_content": null,
            "justify_items": null,
            "left": null,
            "margin": null,
            "max_height": null,
            "max_width": null,
            "min_height": null,
            "min_width": null,
            "object_fit": null,
            "object_position": null,
            "order": null,
            "overflow": null,
            "overflow_x": null,
            "overflow_y": null,
            "padding": null,
            "right": null,
            "top": null,
            "visibility": null,
            "width": null
          }
        },
        "b200633d4fc54d109d3d4521c6b5afd3": {
          "model_module": "@jupyter-widgets/base",
          "model_module_version": "1.2.0",
          "model_name": "LayoutModel",
          "state": {
            "_model_module": "@jupyter-widgets/base",
            "_model_module_version": "1.2.0",
            "_model_name": "LayoutModel",
            "_view_count": null,
            "_view_module": "@jupyter-widgets/base",
            "_view_module_version": "1.2.0",
            "_view_name": "LayoutView",
            "align_content": null,
            "align_items": null,
            "align_self": null,
            "border": null,
            "bottom": null,
            "display": null,
            "flex": null,
            "flex_flow": null,
            "grid_area": null,
            "grid_auto_columns": null,
            "grid_auto_flow": null,
            "grid_auto_rows": null,
            "grid_column": null,
            "grid_gap": null,
            "grid_row": null,
            "grid_template_areas": null,
            "grid_template_columns": null,
            "grid_template_rows": null,
            "height": null,
            "justify_content": null,
            "justify_items": null,
            "left": null,
            "margin": null,
            "max_height": null,
            "max_width": null,
            "min_height": null,
            "min_width": null,
            "object_fit": null,
            "object_position": null,
            "order": null,
            "overflow": null,
            "overflow_x": null,
            "overflow_y": null,
            "padding": null,
            "right": null,
            "top": null,
            "visibility": null,
            "width": null
          }
        },
        "b4333a0009964167ae6d56f44be1e3b8": {
          "model_module": "@jupyter-widgets/controls",
          "model_module_version": "1.5.0",
          "model_name": "DescriptionStyleModel",
          "state": {
            "_model_module": "@jupyter-widgets/controls",
            "_model_module_version": "1.5.0",
            "_model_name": "DescriptionStyleModel",
            "_view_count": null,
            "_view_module": "@jupyter-widgets/base",
            "_view_module_version": "1.2.0",
            "_view_name": "StyleView",
            "description_width": ""
          }
        },
        "b4fadf2fa6de412ab0aa930070ee71fa": {
          "model_module": "@jupyter-widgets/controls",
          "model_module_version": "1.5.0",
          "model_name": "DescriptionStyleModel",
          "state": {
            "_model_module": "@jupyter-widgets/controls",
            "_model_module_version": "1.5.0",
            "_model_name": "DescriptionStyleModel",
            "_view_count": null,
            "_view_module": "@jupyter-widgets/base",
            "_view_module_version": "1.2.0",
            "_view_name": "StyleView",
            "description_width": ""
          }
        },
        "c17b4264297e4c1fbe9d9c4285fefac1": {
          "model_module": "@jupyter-widgets/controls",
          "model_module_version": "1.5.0",
          "model_name": "HTMLModel",
          "state": {
            "_dom_classes": [],
            "_model_module": "@jupyter-widgets/controls",
            "_model_module_version": "1.5.0",
            "_model_name": "HTMLModel",
            "_view_count": null,
            "_view_module": "@jupyter-widgets/controls",
            "_view_module_version": "1.5.0",
            "_view_name": "HTMLView",
            "description": "",
            "description_tooltip": null,
            "layout": "IPY_MODEL_97fbc65727964a6aa20764e3cfc8dde4",
            "placeholder": "​",
            "style": "IPY_MODEL_b4fadf2fa6de412ab0aa930070ee71fa",
            "value": "Epoch 101/101 (Validation): 100%"
          }
        },
        "ccc4beb6ffc849ecb43c2af9127f78a9": {
          "model_module": "@jupyter-widgets/controls",
          "model_module_version": "1.5.0",
          "model_name": "HTMLModel",
          "state": {
            "_dom_classes": [],
            "_model_module": "@jupyter-widgets/controls",
            "_model_module_version": "1.5.0",
            "_model_name": "HTMLModel",
            "_view_count": null,
            "_view_module": "@jupyter-widgets/controls",
            "_view_module_version": "1.5.0",
            "_view_name": "HTMLView",
            "description": "",
            "description_tooltip": null,
            "layout": "IPY_MODEL_cf69b7603d81411bab1e7384dbdd5f43",
            "placeholder": "​",
            "style": "IPY_MODEL_1769dad44c5143418b39b75a7092b061",
            "value": "Epoch 101/101 (Train): 100%"
          }
        },
        "cf69b7603d81411bab1e7384dbdd5f43": {
          "model_module": "@jupyter-widgets/base",
          "model_module_version": "1.2.0",
          "model_name": "LayoutModel",
          "state": {
            "_model_module": "@jupyter-widgets/base",
            "_model_module_version": "1.2.0",
            "_model_name": "LayoutModel",
            "_view_count": null,
            "_view_module": "@jupyter-widgets/base",
            "_view_module_version": "1.2.0",
            "_view_name": "LayoutView",
            "align_content": null,
            "align_items": null,
            "align_self": null,
            "border": null,
            "bottom": null,
            "display": null,
            "flex": null,
            "flex_flow": null,
            "grid_area": null,
            "grid_auto_columns": null,
            "grid_auto_flow": null,
            "grid_auto_rows": null,
            "grid_column": null,
            "grid_gap": null,
            "grid_row": null,
            "grid_template_areas": null,
            "grid_template_columns": null,
            "grid_template_rows": null,
            "height": null,
            "justify_content": null,
            "justify_items": null,
            "left": null,
            "margin": null,
            "max_height": null,
            "max_width": null,
            "min_height": null,
            "min_width": null,
            "object_fit": null,
            "object_position": null,
            "order": null,
            "overflow": null,
            "overflow_x": null,
            "overflow_y": null,
            "padding": null,
            "right": null,
            "top": null,
            "visibility": null,
            "width": null
          }
        },
        "d746d93f10ce4f4d861dd998f3112052": {
          "model_module": "@jupyter-widgets/base",
          "model_module_version": "1.2.0",
          "model_name": "LayoutModel",
          "state": {
            "_model_module": "@jupyter-widgets/base",
            "_model_module_version": "1.2.0",
            "_model_name": "LayoutModel",
            "_view_count": null,
            "_view_module": "@jupyter-widgets/base",
            "_view_module_version": "1.2.0",
            "_view_name": "LayoutView",
            "align_content": null,
            "align_items": null,
            "align_self": null,
            "border": null,
            "bottom": null,
            "display": null,
            "flex": null,
            "flex_flow": null,
            "grid_area": null,
            "grid_auto_columns": null,
            "grid_auto_flow": null,
            "grid_auto_rows": null,
            "grid_column": null,
            "grid_gap": null,
            "grid_row": null,
            "grid_template_areas": null,
            "grid_template_columns": null,
            "grid_template_rows": null,
            "height": null,
            "justify_content": null,
            "justify_items": null,
            "left": null,
            "margin": null,
            "max_height": null,
            "max_width": null,
            "min_height": null,
            "min_width": null,
            "object_fit": null,
            "object_position": null,
            "order": null,
            "overflow": null,
            "overflow_x": null,
            "overflow_y": null,
            "padding": null,
            "right": null,
            "top": null,
            "visibility": null,
            "width": null
          }
        },
        "ead7399858e74178af5ed6074a2630f9": {
          "model_module": "@jupyter-widgets/base",
          "model_module_version": "1.2.0",
          "model_name": "LayoutModel",
          "state": {
            "_model_module": "@jupyter-widgets/base",
            "_model_module_version": "1.2.0",
            "_model_name": "LayoutModel",
            "_view_count": null,
            "_view_module": "@jupyter-widgets/base",
            "_view_module_version": "1.2.0",
            "_view_name": "LayoutView",
            "align_content": null,
            "align_items": null,
            "align_self": null,
            "border": null,
            "bottom": null,
            "display": null,
            "flex": null,
            "flex_flow": null,
            "grid_area": null,
            "grid_auto_columns": null,
            "grid_auto_flow": null,
            "grid_auto_rows": null,
            "grid_column": null,
            "grid_gap": null,
            "grid_row": null,
            "grid_template_areas": null,
            "grid_template_columns": null,
            "grid_template_rows": null,
            "height": null,
            "justify_content": null,
            "justify_items": null,
            "left": null,
            "margin": null,
            "max_height": null,
            "max_width": null,
            "min_height": null,
            "min_width": null,
            "object_fit": null,
            "object_position": null,
            "order": null,
            "overflow": null,
            "overflow_x": null,
            "overflow_y": null,
            "padding": null,
            "right": null,
            "top": null,
            "visibility": null,
            "width": null
          }
        },
        "fc732138b1f8423b8f634dc7e76807b0": {
          "model_module": "@jupyter-widgets/controls",
          "model_module_version": "1.5.0",
          "model_name": "FloatProgressModel",
          "state": {
            "_dom_classes": [],
            "_model_module": "@jupyter-widgets/controls",
            "_model_module_version": "1.5.0",
            "_model_name": "FloatProgressModel",
            "_view_count": null,
            "_view_module": "@jupyter-widgets/controls",
            "_view_module_version": "1.5.0",
            "_view_name": "ProgressView",
            "bar_style": "success",
            "description": "",
            "description_tooltip": null,
            "layout": "IPY_MODEL_b200633d4fc54d109d3d4521c6b5afd3",
            "max": 13,
            "min": 0,
            "orientation": "horizontal",
            "style": "IPY_MODEL_159013a06dcc43cb9aaf31b0b35ad34b",
            "value": 13
          }
        }
      }
    }
  },
  "nbformat": 4,
  "nbformat_minor": 0
}
